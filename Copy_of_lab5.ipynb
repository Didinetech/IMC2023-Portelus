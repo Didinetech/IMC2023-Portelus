{
  "nbformat": 4,
  "nbformat_minor": 0,
  "metadata": {
    "colab": {
      "provenance": [],
      "authorship_tag": "ABX9TyNI6NLp75WdMSgq5uTpaNAg",
      "include_colab_link": true
    },
    "kernelspec": {
      "name": "python3",
      "display_name": "Python 3"
    },
    "language_info": {
      "name": "python"
    }
  },
  "cells": [
    {
      "cell_type": "markdown",
      "metadata": {
        "id": "view-in-github",
        "colab_type": "text"
      },
      "source": [
        "<a href=\"https://colab.research.google.com/github/Didinetech/IMC2023-Portelus/blob/main/Copy_of_lab5.ipynb\" target=\"_parent\"><img src=\"https://colab.research.google.com/assets/colab-badge.svg\" alt=\"Open In Colab\"/></a>"
      ]
    },
    {
      "cell_type": "code",
      "execution_count": null,
      "metadata": {
        "colab": {
          "base_uri": "https://localhost:8080/"
        },
        "id": "C9rleI5FVHi9",
        "outputId": "e9f00ad0-d383-45e9-80f2-fa2223cb3844"
      },
      "outputs": [
        {
          "output_type": "stream",
          "name": "stdout",
          "text": [
            "Cloning into 'imc2023'...\n",
            "remote: Enumerating objects: 122, done.\u001b[K\n",
            "remote: Counting objects: 100% (122/122), done.\u001b[K\n",
            "remote: Compressing objects: 100% (115/115), done.\u001b[K\n",
            "remote: Total 122 (delta 47), reused 14 (delta 1), pack-reused 0\u001b[K\n",
            "Receiving objects: 100% (122/122), 13.19 MiB | 9.43 MiB/s, done.\n",
            "Resolving deltas: 100% (47/47), done.\n"
          ]
        }
      ],
      "source": [
        "import numpy as np\n",
        "import matplotlib.pyplot as plt\n",
        "import librosa\n",
        "import librosa.display\n",
        "import IPython.display\n",
        "import scipy.signal as sg\n",
        "\n",
        "#import audio files\n",
        "!git clone https://github.com/jcdevaney/imc2023.git"
      ]
    },
    {
      "cell_type": "code",
      "source": [
        "def plotTimeFreq(sig,sr,title,winSize,specType,fig):\n",
        "\n",
        "    # Adjust the x-axis to represent time\n",
        "    time=np.arange(0,sig.shape[0])/sr\n",
        "    \n",
        "    # Scale the y-axis to represent amplitude from -1 to 1\n",
        "    excursion=max(abs(sig))\n",
        "    sigNew = sig / excursion\n",
        "    \n",
        "    # Label the x and y axes with variables\n",
        "    xlabel = 'Time (seconds)'\n",
        "    ylabel = 'Amplitude'\n",
        "\n",
        "    # Create a new figure (using the figure number passed in as an argument)\n",
        "    plt.figure(fig)\n",
        "    \n",
        "    # Create the first subplot\n",
        "    plt.subplot(2,1,1)\n",
        "    \n",
        "    # Plot the time-domain representation of the inputted audio signal  \n",
        "    plt.plot(time,sigNew)\n",
        "    plt.xlabel(xlabel)\n",
        "    plt.ylabel(ylabel)\n",
        "    plt.title(title)\n",
        "    \n",
        "    # Create the second subplot\n",
        "    plt.subplot(2,1,2)\n",
        "    \n",
        "    # Plot the frequency-domain representatio of the inputted audio signal\n",
        "    spec = librosa.amplitude_to_db(np.abs(librosa.stft(sig,n_fft=winSize)), ref=np.max)\n",
        "    librosa.display.specshow(spec, y_axis=specType)\n",
        "    plt.colorbar(format='%+2.0f dB')\n",
        "    plt.title(title)\n",
        "    plt.show"
      ],
      "metadata": {
        "id": "wE5YU5DOVeHb"
      },
      "execution_count": null,
      "outputs": []
    },
    {
      "cell_type": "code",
      "source": [
        "#filterSignal() that inputs\n",
        "def filterSignal( sig, sr,freq, filtType, order, winSize, specType, fig): \n",
        "  if filtType == 'high'or filtType == \"low\":\n",
        "   filterFreq = freq / (sr/2)\n",
        "  if filtType =='bandpass' or filtType == \"bandstop\":\n",
        "    filterFreq = [freq[0] / (sr / 2), freq[1] / (sr / 2)]\n",
        "  # design filter\n",
        "  b, a = sg.butter( order, filterFreq, filtType)\n",
        "\n",
        "  # run filter on signal\n",
        "  sig_fil1a = sg.filtfilt(b, a, sig)\n",
        "\n",
        "  plotTimeFreq(sig_fil1a, sr, filtType, winSize, specType, fig)\n",
        "  return sig_fil1a"
      ],
      "metadata": {
        "id": "iak6cKVGWAio"
      },
      "execution_count": null,
      "outputs": []
    },
    {
      "cell_type": "code",
      "source": [
        "  #Filters()\n",
        "  def filtersignal(sig, sr,freq, order, winSize, specType, fig):\n",
        "   if filtType == 'high'or filtType == \"low\":\n",
        "    filterFreq = freq / (sr/2)\n",
        "   if filtType =='bandpass' or filtType == \"bandstop\":\n",
        "    filterFreq = [freq[0] / (sr / 2), freq[1] / (sr / 2)]\n",
        "  # design filter\n",
        "   b, a = sg.butter(order, filterFreq, filtType)\n",
        "\n",
        "  # run filter on signal\n",
        "   sig_fil1a = sg.filtfilt(b, a, sig)\n",
        "\n",
        "   plotTimeFreq(sig_fil1a,sr,filtType,winSize,specType,fig)\n",
        "   IPython.display.Audio(data=sig_fil1a, rate=sr)\n",
        "\n",
        " "
      ],
      "metadata": {
        "id": "Dwf3wqc4hara"
      },
      "execution_count": null,
      "outputs": []
    },
    {
      "cell_type": "code",
      "source": [
        "#filterSignal() \n",
        "def allFilters(sig, sr,freq, order, winSize, specType, fig):\n",
        " if filtType == 'high'or filtType == \"low\":\n",
        "    filterFreq = freq / (sr/2)\n",
        " if filtType =='bandpass' or filtType == \"bandstop\":\n",
        "    filterFreq = [freq[0] / (sr / 2), freq[1] / (sr / 2)]\n",
        "\n",
        "    sig , sr = librosa.load('avm.wav')\n",
        "winSize = 1024 specType = 'log' fig = 1\n",
        "\n"
      ],
      "metadata": {
        "colab": {
          "base_uri": "https://localhost:8080/",
          "height": 130
        },
        "id": "byjmJsY8lctx",
        "outputId": "82fc629c-1a8b-413e-e339-0c309153c562"
      },
      "execution_count": null,
      "outputs": [
        {
          "ename": "SyntaxError",
          "evalue": "ignored",
          "output_type": "error",
          "traceback": [
            "\u001b[0;36m  File \u001b[0;32m\"<ipython-input-24-dafb06abb151>\"\u001b[0;36m, line \u001b[0;32m9\u001b[0m\n\u001b[0;31m    winSize = 1024 specType = 'log' fig = 1\u001b[0m\n\u001b[0m                   ^\u001b[0m\n\u001b[0;31mSyntaxError\u001b[0m\u001b[0;31m:\u001b[0m invalid syntax\n"
          ]
        }
      ]
    }
  ]
}