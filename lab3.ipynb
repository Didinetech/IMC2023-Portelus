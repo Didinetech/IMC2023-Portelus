{
  "nbformat": 4,
  "nbformat_minor": 0,
  "metadata": {
    "colab": {
      "provenance": [],
      "authorship_tag": "ABX9TyNVDnJMIROFFcAT89vAYomt",
      "include_colab_link": true
    },
    "kernelspec": {
      "name": "python3",
      "display_name": "Python 3"
    },
    "language_info": {
      "name": "python"
    }
  },
  "cells": [
    {
      "cell_type": "markdown",
      "metadata": {
        "id": "view-in-github",
        "colab_type": "text"
      },
      "source": [
        "<a href=\"https://colab.research.google.com/github/Didinetech/IMC2023-Portelus/blob/main/lab3.ipynb\" target=\"_parent\"><img src=\"https://colab.research.google.com/assets/colab-badge.svg\" alt=\"Open In Colab\"/></a>"
      ]
    },
    {
      "cell_type": "code",
      "source": [
        "import numpy as np\n",
        "import librosa\n",
        "import librosa.display\n",
        "import matplotlib.pyplot as plt\n",
        "\n",
        "#import audio files\n",
        "!git clone https://github.com/jcdevaney/imc2023.git"
      ],
      "metadata": {
        "colab": {
          "base_uri": "https://localhost:8080/"
        },
        "id": "xe9cFwVYdMeA",
        "outputId": "4bd1e805-5333-45fd-a894-20816a76d97f"
      },
      "execution_count": 2,
      "outputs": [
        {
          "output_type": "stream",
          "name": "stdout",
          "text": [
            "Cloning into 'imc2023'...\n",
            "remote: Enumerating objects: 110, done.\u001b[K\n",
            "remote: Counting objects: 100% (110/110), done.\u001b[K\n",
            "remote: Compressing objects: 100% (104/104), done.\u001b[K\n",
            "remote: Total 110 (delta 43), reused 14 (delta 1), pack-reused 0\u001b[K\n",
            "Receiving objects: 100% (110/110), 9.68 MiB | 15.14 MiB/s, done.\n",
            "Resolving deltas: 100% (43/43), done.\n"
          ]
        }
      ]
    },
    {
      "cell_type": "code",
      "source": [
        "#load audio\n",
        "def plotAudio2(sig,samplingRate, tittle):\n",
        "\n",
        "  #this version expects the audio file to have already been opened by librosa\n",
        "\n",
        "  #adjust the x-axis to represent amplitude from _1 to 1\n",
        "  excursion=max( abs(sig))\n",
        "  sigNew = sig / excursion \n",
        "\n",
        "  #label the x and y axes with variables\n",
        "  xlable = 'Time (second)'\n",
        "  ylabel = 'amplitude'\n",
        "\n",
        "  "
      ],
      "metadata": {
        "id": "-iz1ju4kdlqb"
      },
      "execution_count": null,
      "outputs": []
    }
  ]
}